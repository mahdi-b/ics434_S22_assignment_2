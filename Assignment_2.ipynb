{
 "cells": [
  {
   "cell_type": "code",
   "execution_count": 2,
   "metadata": {},
   "outputs": [],
   "source": [
    "from scipy import stats\n",
    "import numpy as np\n",
    "import matplotlib.pyplot as plt\n",
    "import scipy as sp\n",
    "import scipy.stats as stats\n",
    "import pandas as pd\n",
    "%matplotlib inline"
   ]
  },
  {
   "cell_type": "markdown",
   "metadata": {},
   "source": [
    "### Brief Overview \n",
    "\n",
    "- The goal of this assignment is to practice some essential probability and hypothesis testing sections.\n",
    "\n",
    "The assignment consists of two parts: 1- generative models and simulation; and 2- data analysis, interpretation and hypothesis testing. In both problems, you are given bits of information that guide you through solving the problem step-by-step before you are asked to repeat the analysis on a different question.\n",
    "\n",
    "##### Instructions on answering the questions\n",
    "\n",
    "1. The only Python modules you can use in this assignment are those imported for you in the top cell. They are `matplotlib`, `numpy`, `scipy`, and `pandas`\n",
    "\n",
    "2. Your graphs must have titles and axes labels.\n",
    "  The plot size can be set using `plt.figure(figsize=(a,b))`, where (a,b) are the plot dimensions"
   ]
  },
  {
   "cell_type": "markdown",
   "metadata": {},
   "source": [
    "# PROBLEM 1\n",
    "----"
   ]
  },
  {
   "cell_type": "markdown",
   "metadata": {
    "collapsed": true
   },
   "source": [
    "### Modeling Revenue from Memberships on a Training Website\n",
    "\n",
    "* We are interested in modeling sales revenue for a membership-based training website over 2022. In summary, the website charges a monthly fee ($39.99) and enrollees can take as long as they need to complete their training. Students can quit the platform at any time without completing the training.\n",
    "\n",
    "We know that:\n",
    "  * Women finish training faster on average than men\n",
    "  * Women quit less often on average than men \n",
    "  * Students have a small chance of dropping each month. As students get close to the end of the training, the probability of dropping decays (decreases), i.e., the longer a student has paid, the less likely they are to give up on their investment and leave the platform.\n",
    "  \n",
    "  * The site has seen a steady annual increase in memberships over the past five years. The average yearly increase was 13%, and the standard deviation was 1.4%. Memberships are expected to increase by the same percentage next year.\n",
    "   * In 2021, 90,316 people enrolled on the training site\n",
    "  \n",
    "* We have access to some of the data from previous years. The data is stored in the file `memberships_info.csv` and can be downloaded from the following [URL](https://www.dropbox.com/s/evaaiu1mevw6t3j/memberships_info.csv?dl=1)\n",
    "\n",
    "   \n",
    "The data contains the following columns:\n",
    "\n",
    "| Column    | Description                                    |\n",
    "|-----------|------------------------------------------------|\n",
    "| member_id | unique identifier of the member                |\n",
    "| gender    | M for male and F for female                    |\n",
    "| status    | C for completed and Q for quit                 |\n",
    "| mem_duration  | Total duration of the membership in Months |\n",
    "  \n",
    "\n",
    "\n",
    "Your task is to develop a generative model, which can be used to estimate revenue for next year. Nevertheless, the model's parameters need to be identified and their underlying distributions hypothesized before their estimated values can be determined. \n"
   ]
  },
  {
   "cell_type": "markdown",
   "metadata": {
    "collapsed": true
   },
   "source": [
    "### Reading the Data \n",
    "\n",
    "* Use `pandas` to read in the data into a variable called `sample_users`\n",
    "* Based on the data in the tables, what is the proportion of males who completed the training?\n"
   ]
  },
  {
   "cell_type": "code",
   "execution_count": null,
   "metadata": {},
   "outputs": [],
   "source": [
    "# Write your code here \n",
    "\n"
   ]
  },
  {
   "cell_type": "markdown",
   "metadata": {},
   "source": [
    "### Generative Model for our Simulations\n",
    "\n",
    "Below is a description of the generative model we will use. Our model will simulate yearly sales in 4 steps:\n",
    "\n",
    "  1. Simulate a likely number of enrollees based on $\\mu=13$ and $\\sigma =1.4$ increase from last year (2021).\n",
    "  \n",
    "  2. You can simulate whether a particular enrollee will:\n",
    "  \n",
    "    2.1 Quit the training: In which case, generate a likely value representing the number of months of enrollment before quitting\n",
    "      \n",
    "    2.2 Complete the training: in which case, generate a likely value representing the number of months of enrollment before completing the training\n",
    "\n",
    "  3. Compute the revenue from memberships based on the total number of months of enrollment simulated for each member.\n",
    "\n",
    "* This strategy is shown in the figure below"
   ]
  },
  {
   "cell_type": "markdown",
   "metadata": {},
   "source": [
    "<img src=\"https://www.dropbox.com/s/xvvof9g36m7pthq/generative_model_diagram.png?dl=1\" alt=\"drawing\" style=\"width:700px;\"/>"
   ]
  },
  {
   "cell_type": "markdown",
   "metadata": {},
   "source": [
    "### Estimating the 95% Confidence Interval of the Simulation\n",
    "\n",
    "* We are not interested in one value, but rather the interval in which the revenue falls 95% of the time. Therefore, we need to repeat the experiment above a large number of times (say 5,000) to derive the 95% confidence interval.\n"
   ]
  },
  {
   "cell_type": "markdown",
   "metadata": {},
   "source": [
    "###  1. Generating the Number of Enrollees\n",
    "\n",
    " * As mentioned earlier, the company that provides the training expects the increase in enrollments in 2022 to be comparable to annual increases in the past. The increase has, therefore, a mean $\\mu=13$% and a standard deviation of $\\sigma =1.4$% \n",
    " * Given that last year's number of enrollees was 90,316, use the Gaussian (normal) distribution to sample a likely number of enrollees for 2022. This number will represent the number of enrollees in a single iteration of the generative model\n",
    "\n",
    "* Save the value in a variable called `nb_enrollees`\n",
    "  * Recall that you will need to convert the resulting value to an `int` since the gaussian sample generated is a continuous values  \n",
    "\n"
   ]
  },
  {
   "cell_type": "code",
   "execution_count": null,
   "metadata": {},
   "outputs": [],
   "source": [
    "# Write your code here \n",
    "\n"
   ]
  },
  {
   "cell_type": "markdown",
   "metadata": {},
   "source": [
    "### Compute the Proportion of People who Quit Training in the Population of Enrollees\n",
    "\n",
    "* Use the data in `sample_users` to build a 98% confidence interval of the proportion of enrollees who quit the training before completing. You can generate a single instance of the rate of people who quit by dividing by the number of  people who quit (`status == \"Q\"` in the data) by the number of people who complete the program (`status == \"C\"` in the data)\n",
    "\n",
    "* Will build a 98% confidence interval by computing the proportion in 10,000 bootstrap iteration of the data\n",
    "\n",
    "* Assing the the the confidence interval tuple to a variable called `quit_prop_conf_int`\n",
    "\n",
    "  "
   ]
  },
  {
   "cell_type": "code",
   "execution_count": null,
   "metadata": {},
   "outputs": [],
   "source": [
    "# Write your code here \n"
   ]
  },
  {
   "cell_type": "markdown",
   "metadata": {},
   "source": [
    "\n",
    "### 2. Generating a Radom Quitting Probability\n",
    "\n",
    "Approximately 98% of the time, the quitting parameter is within the 98% confidence interval. In order to incorporate this uncertainty in our model, we will randomly pick a quitting probability from this confidence interval and use it to estimate the number of people who quit each in iteration our our simualtion\n",
    " \n",
    "  * Use `np.random.uniform(min, max)` to randomly pick a value in the interval.\n",
    "  * ex. if the bounds of your quit_prop_conf_int are (0.2, 0.3), a possible value is \n",
    "  \n",
    "```python  \n",
    "  np.random.uniform(0.2, 0.3)\n",
    "  >>> 0.225\n",
    "  # this is equivalent to \n",
    "  # np.random.uniform(quit_prop_conf_int[0], quit_prop_conf_int[1])\n",
    "```\n",
    "\n",
    "Save the value in a variable called `quit_prop`"
   ]
  },
  {
   "cell_type": "code",
   "execution_count": null,
   "metadata": {},
   "outputs": [],
   "source": [
    "# Write your code here\n",
    "\n"
   ]
  },
  {
   "cell_type": "markdown",
   "metadata": {},
   "source": [
    "### 3. Simulating the Number for People Who Quit and Those Who Complete the Training\n",
    "\n",
    "* Use the variables `nb_enrollees` and `quit_param` to determine the number of people who will complete the training and the number of enrollees who will quit.\n",
    "\n",
    "* Save the value in `nb_enrollees_finish` and `nb_enrollees_quit` \n",
    "\n",
    "  * Recall that the resulting values are integers not floats.\n",
    "  * Verify that\n",
    "```\n",
    "nb_enrollees_finish + nb_enrollees_quit == nb_enrollees\n",
    "```"
   ]
  },
  {
   "cell_type": "code",
   "execution_count": null,
   "metadata": {},
   "outputs": [],
   "source": [
    "# Write your code here \n",
    "\n"
   ]
  },
  {
   "cell_type": "markdown",
   "metadata": {},
   "source": [
    "### Determining the Number of Payments Enrollees Make Before Quitting\n",
    "\n",
    "* Here we will be modeling the number of months that a person remains enrolled before eventually quitting\n",
    "\n",
    "* Recall that the probability of dropping declines as the students get closer to completing the training\n",
    "  * A person is more likely to quit in the first month than in any other month \n",
    "  * The probability of unenrolling during month $t$ is always higher than the probability of unenrolling during month $t+1$\n",
    "  * The longer the student has paid, the less likely they are to drop out\n",
    "  \n",
    " \n",
    "* The illustrations A, B and C below are all valid representations of the probability distribution that satisfy the constraints set above.\n",
    "  * For illustration purposes, the function is represented in the range [1, 10].\n",
    "\n",
    "<img src=\"https://www.dropbox.com/s/ys12ubh0mvmyji5/decay.png?dl=1\" alt=\"drawing\" style=\"width:1400px;\"/>"
   ]
  },
  {
   "cell_type": "markdown",
   "metadata": {},
   "source": [
    "### Identifying the Most Likely Parameters\n",
    "\n",
    "* This three figure above (A, B and C) all represent exponential probability distributions\n",
    "  https://docs.scipy.org/doc/scipy/reference/generated/scipy.stats.expon.html\n",
    " \n",
    "* While we haven't covered this distribution in class, all we need to know is that this distribution has two parameters:\n",
    "  * `loc`: represents the value at which the function has its maximum\n",
    "  * `scale`: represents the \"inverse rate of decay\"\n",
    "    * the larger the scale, the slower the function is to reach a probability of 0.\n",
    "  \n",
    "* In the example above, all three figures were generated with a `loc` of 1 since enrollees are most likely to quit during the first month than in any other month\n",
    "* Figures A, B and C have different scale parameters; decays (`scale`) of `0.2`, `1` and `200` respectively\n",
    "\n",
    "* Examples of how to use the exponential probability distribution (`expon`) are given below\n",
    "\n"
   ]
  },
  {
   "cell_type": "code",
   "execution_count": 3,
   "metadata": {},
   "outputs": [
    {
     "data": {
      "text/plain": [
       "[<matplotlib.lines.Line2D at 0x1378aad00>]"
      ]
     },
     "execution_count": 3,
     "metadata": {},
     "output_type": "execute_result"
    },
    {
     "data": {
      "image/png": "[encoded data removed]",
      "text/plain": [
       "<Figure size 1584x288 with 2 Axes>"
      ]
     },
     "metadata": {
      "needs_background": "light"
     },
     "output_type": "display_data"
    }
   ],
   "source": [
    "plt.figure(figsize=(22,4))\n",
    "x = np.linspace(0, 10, 1000)\n",
    "\n",
    "y_dist_1 = stats.expon(1, 1)\n",
    "y_dist_2 = stats.expon(1, 4)\n",
    "\n",
    "\n",
    "plt.subplot(1, 2, 1)\n",
    "plt.plot(x, y_dist_1.pdf(x), label=\"$a=0.2$\")\n",
    "\n",
    "\n",
    "plt.subplot(1, 2, 2)\n",
    "plt.plot(x, y_dist_2.pdf(x), label=\"$a=1$\")\n",
    "\n"
   ]
  },
  {
   "cell_type": "code",
   "execution_count": 4,
   "metadata": {},
   "outputs": [
    {
     "data": {
      "text/plain": [
       "array([4.69748071, 5.93631801, 1.65996173, 1.20477277, 2.31619978,\n",
       "       4.31160426, 2.49487828])"
      ]
     },
     "execution_count": 4,
     "metadata": {},
     "output_type": "execute_result"
    }
   ],
   "source": [
    "# Sampling 7 values from stats.expon with `loc=1` and `scale=2`\n",
    "\n",
    "stats.expon(1, 2).rvs(7)"
   ]
  },
  {
   "cell_type": "markdown",
   "metadata": {},
   "source": [
    "### Identifying the Scale Parameter that Maximizes the Likelihood (ML)\n",
    "\n",
    "* We will set `loc=1` since enrollees are likely to quit during the first month. However, what value of `scale` maximizes the log-likelihood of our data?\n",
    "  \n",
    "  \n",
    "* Before we answer this question, compute the log-likelihood of this dataset using a `scale` value of 5\n",
    " * Recall that the obsersed data here is the number of months a person remains enrolled before eventually quitting\n",
    "   * Make sure that your data is the `mem_duration` for individuals with `status==\"Q\"`\n",
    "\n",
    "* Also, to compute the log-likelihood of the data [2,1,2,3,4] and `location=1` and `scale=5`, we write:\n",
    "\n",
    "\n",
    "```python\n",
    "    log_pdfs = stats.expon(1, 4).logpdf([2,1,2,3,4])\n",
    "    sum(log_pdfs)\n",
    "    # or simply \n",
    "    # sum(stats.expon(1, 4).logpdf([2,1,2,3,4]))\n",
    "```\n",
    "\n",
    "* Note that above we chain operations by first building the distribution using `stats.expon(1, 4)` and, which we subsequently use to call the method `logpdf([2,1,2,3,4])`"
   ]
  },
  {
   "cell_type": "code",
   "execution_count": null,
   "metadata": {},
   "outputs": [],
   "source": [
    "# Write your code here \n"
   ]
  },
  {
   "cell_type": "markdown",
   "metadata": {},
   "source": [
    "### Estimating Scale Using the Maximum Likelihood\n",
    "\n",
    "* Compute and plot the log-likelihood of `scale` values between 1 and 50 given the data\n",
    "\n",
    "* Your graph should look like the one below.\n",
    "\n",
    "  * The X-axis represents possible scale params\n",
    "  * The Y-axis represents the log-likelihood of your data\n",
    "\n",
    "<img src=\"https://www.dropbox.com/s/qo5t4qck68pbads/ML.png?dl=1\" alt=\"drawing\" style=\"width:1400px;\"/>\n",
    "\n",
    "* Notes:\n",
    "  * I have marked the graph to indicate where likelihood is maximal\n",
    "  * The x-axis ticks are intentionally missing. Make sure yours are not.\n"
   ]
  },
  {
   "cell_type": "code",
   "execution_count": null,
   "metadata": {},
   "outputs": [],
   "source": [
    "# Write your code here \n",
    "\n"
   ]
  },
  {
   "cell_type": "markdown",
   "metadata": {
    "collapsed": true
   },
   "source": [
    "### 4. Simulating Users Unenrolling from the Training\n",
    "\n",
    "* Simulate the number of months users who quit are likely to have stayed on the platform before quitting.\n",
    "\n",
    "* This can be done by sampling from the exponential using the `loc=1` and the `scale` parameter identified above. E.g.,. if your scale is 4, you can use: \n",
    "\n",
    "```python \n",
    "    scale =4\n",
    "    nb_users = 1\n",
    "    stats.expon(1, scale).rvs(nb_users)\n",
    "    array([ 2.68001742])\n",
    "    \n",
    "```\n",
    "\n",
    "* The above value tells us the user we simulated stayed on for 2.6 months before quitting. \n",
    "  *  To simulate multiple users, simply change the value of nb_users\n",
    "\n",
    "Since users pay monthly, you can round the values up to the nearest integer\n",
    "  *I.e., use `np.ceil` to determine the ceiling\n",
    "\n",
    "* Simulate the number of months enrolled for all users in `nb_enrollees_quit`  \n",
    " * Save the value to a variable called `months_paid_before_quitting`.   "
   ]
  },
  {
   "cell_type": "code",
   "execution_count": null,
   "metadata": {},
   "outputs": [],
   "source": [
    "# Write your code here \n"
   ]
  },
  {
   "cell_type": "markdown",
   "metadata": {},
   "source": [
    "### Modeling the Membership Duration for Enrollees who Complete the Training\n",
    "\n",
    "* We will use a similar approach to derive the duration of enrollment for users who completed the training\n",
    "\n",
    "  * Here we are not concerned by the gender difference.\n",
    "    \n",
    "* Plot a KDE of the duration of enrollment for enrollees who finished the training. \n",
    "  * Your graph should look like the following. \n",
    "\n",
    "<img src=\"https://www.dropbox.com/s/it164wz91kr44cz/kde.png?dl=1\" alt=\"drawing\" style=\"width:600px;\"/>"
   ]
  },
  {
   "cell_type": "code",
   "execution_count": null,
   "metadata": {},
   "outputs": [],
   "source": [
    "# Write your code here \n",
    "\n"
   ]
  },
  {
   "cell_type": "markdown",
   "metadata": {},
   "source": [
    "### Visually identifying mean training completion time\n",
    "\n",
    "* Based on the KDE above, how long does it take, on average, to complte the training?\n",
    "\n"
   ]
  },
  {
   "cell_type": "code",
   "execution_count": null,
   "metadata": {
    "collapsed": true
   },
   "outputs": [],
   "source": [
    "### Write your answer here\n",
    "\n"
   ]
  },
  {
   "cell_type": "markdown",
   "metadata": {},
   "source": [
    "### Modeling the Membership Duration for Enrollees who Complete the Training - Cont'd \n",
    "\n",
    "\n",
    "* Searching online for similar-looking probability distributions, you find that your KDE resembles a gamma distribution. \n",
    "  \n",
    "   https://docs.scipy.org/doc/scipy/reference/generated/scipy.stats.gamma.html\n",
    "\n",
    "* The gamma distribution takes a single parameter $a$ called the shape parameter.\n",
    "  * See the documentation for `stats.gamma` in the `scipy` package\n",
    "\n",
    "* Below are a couple of examples of usage of `stats.gamma`. The first was generated with $a=2$ and the second with $a=8$\n",
    "  \n",
    "<img src=\"images/two_gammas.png\" alt=\"drawing\" style=\"width:1000px;\"/>\n"
   ]
  },
  {
   "cell_type": "markdown",
   "metadata": {
    "collapsed": true
   },
   "source": [
    "### Computing the Maximum Likelihood Value of the Parameter $a$\n",
    "\n",
    "* Use the Maximum Likelihood to identify the value of the parameter $a$ that maximizes the log-likelihood \n",
    "    \n",
    "  * Compute and plot the log-likelihood for the values between 1 and 25\n",
    "  \n",
    "    * The X-axis represents possible distribution params\n",
    "    * The Y-axis represents the log-likelihood of your data\n",
    "  * Recall that tour data consists of the `mem_duration` for users where `status == \"C\"`\n",
    "  \n",
    "* Notes:\n",
    "  * I clearly marked the graph to indicate where likelihood is maximal\n",
    "  * The x-axis ticks are intentionally missing. Make sure yours are not.\n",
    "  * You can  use the `logpdf` directly on the `gamma(x)` object \n",
    "  \n",
    "<img src=\"https://www.dropbox.com/s/dahd99mz258curq/ML_gamma.png?dl=1\" alt=\"drawing\" style=\"width:800px;\"/>\n",
    "\n"
   ]
  },
  {
   "cell_type": "code",
   "execution_count": null,
   "metadata": {},
   "outputs": [],
   "source": [
    "# Write your code here\n",
    "\n"
   ]
  },
  {
   "cell_type": "markdown",
   "metadata": {},
   "source": [
    "### Computing the Maximum Likelihood Value of the Parameter $a$ - Cont'd\n",
    "\n",
    "\n",
    "* What is the value that maximizes the likelihood?\n",
    "* Does this value align with what you observed after inspecting rhe KDE graph above?\n",
    "\n"
   ]
  },
  {
   "cell_type": "code",
   "execution_count": null,
   "metadata": {
    "collapsed": true
   },
   "outputs": [],
   "source": [
    "# Write you code here \n"
   ]
  },
  {
   "cell_type": "code",
   "execution_count": null,
   "metadata": {
    "collapsed": true
   },
   "outputs": [],
   "source": [
    "### Write you answer here \n",
    "\n"
   ]
  },
  {
   "cell_type": "markdown",
   "metadata": {},
   "source": [
    "### 5. Simulating Users Completing the Training\n",
    "\n",
    "\n",
    "* Using the gamma distribution and the parameter $a$ determined above, simulate the number of months it takes users to finish the training. To simulate the number of months a user may have remained unrolled before completing the training we simply sample from the gamma using the parameter $a$ identified above.\n",
    "\n",
    "* E.g., for $a = 5$, you can use: \n",
    "\n",
    "```python \n",
    "    scale =4\n",
    "    nb_users = 1\n",
    "    stats.gamma(1, months_paid_before_completion).rvs(nb_users)\n",
    "    array([ 5.112342])\n",
    "    \n",
    "```\n",
    "\n",
    "* According to the value above, the simulated student stayed on for 5.1 months before quitting \n",
    "  * Change the value of `nb_users` to simulate multiple users\n",
    "\n",
    "* Since users pay monthly, round up the values to the nearest integer\n",
    "  * I.e., compute the ceiling using `np.ceil`\n",
    "\n",
    "* Simulate the number of months enrolled for all users in `nb_enrollees_finish`  \n",
    " * Save the values to a variable called `months_paid_before_finishing`"
   ]
  },
  {
   "cell_type": "code",
   "execution_count": null,
   "metadata": {},
   "outputs": [],
   "source": [
    "# Write your code here \n"
   ]
  },
  {
   "cell_type": "markdown",
   "metadata": {},
   "source": [
    "### 6. Simulating Revenue for a Single Iteration\n",
    "\n",
    "* Compute the total revenue for this iteration as the total number of months paid by users who completed the training and those who quit, times the monthly fee.\n",
    "  * The total number of months of enrollement for users who completed the training is saved in `months_paid_before_finishing`\n",
    "  * The total number of months of enrollement for users who did not complete the training is saved in `months_paid_before_quitting`\n",
    "  * The monthly fee is 39.99\n",
    "\n"
   ]
  },
  {
   "cell_type": "code",
   "execution_count": null,
   "metadata": {},
   "outputs": [],
   "source": [
    "# Write you code here\n"
   ]
  },
  {
   "cell_type": "markdown",
   "metadata": {},
   "source": [
    "### Build a 95% Confidence Interval for the Revenue\n",
    "\n",
    "* Repeat the simulation above 5000 times to build a confidence interval. The steps you'll need to repeat are those described in text cells with the following headers:\n",
    "    \n",
    "  1. Generating the Number of Enrollees\n",
    "  2. Generating a Radom Quitting Probability \n",
    "  3. Simulating the Number for People Who Quit and Those Who Complete the Training \n",
    "  4. Simulating Users Unenrolling from the Training\n",
    "  5. Simulating Users Completing the Training\n",
    "  6. Simulating Revenue for a Single Iteration\n",
    "\n",
    "\n",
    "    \n",
    "* The computation may take a few minutes to complete"
   ]
  },
  {
   "cell_type": "code",
   "execution_count": null,
   "metadata": {
    "collapsed": true
   },
   "outputs": [],
   "source": [
    "# Write you code here"
   ]
  },
  {
   "cell_type": "markdown",
   "metadata": {},
   "source": [
    "### Taking into account gender differences \n",
    "\n",
    "* Repeat the analysis above while taking into consideration the differences between males and females. To do so, you'll need two additional parameters:\n",
    "\n",
    "  * the proportion of males/females in the population of enrollees who quit the training, call it `male_female_prop_quit`\n",
    "     * This is the parameter that you'll use to decide whether the person who unenrolls is a Male or Female\n",
    "\n",
    "  * The proportion of males to females in the population of enrollees who complete the training, call it `male_female_prop_finish`\n",
    "    * This is the parameter that you'll use to decide whether the person who unenrolls is a man or a woman.\n",
    "\n",
    "* Rather than having a single parameter `scale` for the inverse decay of the exponential distribution, you will now have two parameters, one for males and a second for females\n",
    "* Rather than having a single shape parameter $a$ for gamma distribution, you will now have two parameters, one for males and a second for females\n",
    "\n"
   ]
  },
  {
   "cell_type": "code",
   "execution_count": null,
   "metadata": {
    "collapsed": true
   },
   "outputs": [],
   "source": [
    "# Write you code here \n",
    "\n",
    "\n"
   ]
  },
  {
   "cell_type": "markdown",
   "metadata": {
    "collapsed": true
   },
   "source": [
    "### Conclusion\n",
    "\n",
    "\n",
    "* Which do you think is the most accurate model, the one that takes into account the gender differences of the one that does not? Justify your answer.\n",
    "\n",
    "\n"
   ]
  },
  {
   "cell_type": "markdown",
   "metadata": {},
   "source": [
    "# PROBLEM 2\n",
    "----"
   ]
  },
  {
   "cell_type": "markdown",
   "metadata": {},
   "source": [
    "###  Average Medicare Payment and Hypothesis Testing \n",
    "\n",
    "* We have access to the average Medicare payment made by the Federal government to over 6,000 hospitals nationwide. Medicare payments are categorized according to `DRG Definitions`, which are diagnostic categories that describe the service provided. For instance, the average Medicare payment at  THE QUEENS MEDICAL CENTER for the diagnostic category \"917 - POISONING & TOXIC EFFECTS OF DRUGS W MCC\" was $15,305.21.\n",
    "\n",
    "* We are interested in comparing the average payment across states to see if they are similar or not, regardless of diagnostic category. Naturally, by different, we are interested in seeing whether the difference is statistically significant.\n",
    "\n",
    "\n"
   ]
  },
  {
   "cell_type": "markdown",
   "metadata": {
    "slideshow": {
     "slide_type": "slide"
    }
   },
   "source": [
    "\n",
    "### Loading  the data\n",
    "* The data is stored in `hospital_charge_data.csv` available at the following [URL](https://www.dropbox.com/s/zqf56enddz6mhlf/hospital_charge_data.csv?dl=1)\n",
    "\n",
    "\n",
    "* Load the data into a variable called `payment_data`\n",
    "  * Select only the columns `['DRG Definition', \"Provider Name\", 'Provider State', 'Average Medicare Payments']`\n",
    "  * Rename these columns as `['diagnostic', 'name', 'state', 'avg_medicare_payment']`\n",
    "\n"
   ]
  },
  {
   "cell_type": "code",
   "execution_count": null,
   "metadata": {
    "slideshow": {
     "slide_type": "slide"
    }
   },
   "outputs": [],
   "source": [
    "# Write you code here\n",
    "\n"
   ]
  },
  {
   "cell_type": "markdown",
   "metadata": {},
   "source": [
    "### Average Medicare Payment Value\n",
    "\n",
    "* Compute the mean average medicare payment value for Idaho (ID) and Hawaii (HI). \n",
    "\n",
    "* Based on the observed means, do you believe that there is a statistically significant difference in medicare payments between the two states? Justify your answer."
   ]
  },
  {
   "cell_type": "code",
   "execution_count": null,
   "metadata": {
    "slideshow": {
     "slide_type": "slide"
    }
   },
   "outputs": [],
   "source": [
    "# Write you code here\n",
    "\n"
   ]
  },
  {
   "cell_type": "markdown",
   "metadata": {},
   "source": [
    "# FYI: Which are the Costliest Categories\n",
    "\n",
    "* Post-surgery infections are the categories with the highest Medicare payments cost,\n",
    "  * The most expensive category is `853 - INFECTIOUS & PARASITIC DISEASES W O.R. P....` \n",
    "    * there were 15 discharges in NY's  WESTCHESTER MEDICAL CENTER, with an average Medicare payment of $133,177. \n",
    "    \n",
    "    * there were 86 discharges in LA's CEDARS-SINAI MEDICAL CENTER with an average medicare payment of $87,437\n",
    "  \n",
    "* The overall cost of surgical site infection alone in the US is estimated at $3.5 to $10 billion annually."
   ]
  },
  {
   "cell_type": "code",
   "execution_count": null,
   "metadata": {},
   "outputs": [],
   "source": [
    "data[data[\"DRG Definition\"].str.contains(\"INFECTIOUS\")].sort_values(\"Average Medicare Payments\", ascending=False).head()"
   ]
  },
  {
   "cell_type": "markdown",
   "metadata": {},
   "source": [
    "### Skewed Data\n",
    "\n",
    "* The payments data in Idaho and Hawaii are highly skewed and most payments are below $15k$, with some up to $60k$ in both states. See graphs below.\n",
    "\n"
   ]
  },
  {
   "cell_type": "code",
   "execution_count": null,
   "metadata": {},
   "outputs": [],
   "source": [
    "plt.figure(figsize=(22,4))\n",
    "plt.subplot(1, 2, 1)\n",
    "_ = plt.hist(payment_data[payment_data[\"state\"] == \"ID\"][\"avg_medicare_payment\"])\n",
    "plt.title(\"avg_medicare_payment in ID\")\n",
    "plt.subplot(1, 2, 2)\n",
    "_ = plt.hist(payment_data[payment_data[\"state\"] == \"HI\"][\"avg_medicare_payment\"])\n",
    "plt.title(\"avg_medicare_payment in Hawaii\")"
   ]
  },
  {
   "cell_type": "markdown",
   "metadata": {},
   "source": [
    "### Log-Transforming the Data\n",
    "\n",
    "\n",
    "* As discussed in class, data which follow bell-shaped distributions tend to be easier to work with in hypothesis testing.\n",
    "    * Bootstrapping is not recommended with skewed data.\n",
    "\n",
    "* Compute the `log` (base 10) of the `avg_medicare_payment` column and save the result to a new column called `log_avg_medicare_payment`"
   ]
  },
  {
   "cell_type": "code",
   "execution_count": 1,
   "metadata": {},
   "outputs": [],
   "source": [
    "# Write you code here\n",
    "\n"
   ]
  },
  {
   "cell_type": "markdown",
   "metadata": {},
   "source": [
    "# Plotting the Hawaii KDE\n",
    "\n",
    "* Plot the `log_avg_medicare_payment` KDE for Hawaii \n",
    "    \n",
    "* Your curve should look like the one below\n",
    "\n",
    "* Notice that: \n",
    "  * The KDE is smooth (as opposed to having jagged peaks)\n",
    "   * The bandwidth was selected so that the range (x-axis) is mimized\n",
    "\n",
    "* In the example below, x- and y-axis labels are missing. Your final graph should be labeled appropriately and should have a title\n",
    "\n",
    "<img src=\"https://www.dropbox.com/s/i98rzkjiajz2by2/kde_hawaii.png?dl=1\" alt=\"drawing\" style=\"width:700px;\"/>"
   ]
  },
  {
   "cell_type": "code",
   "execution_count": null,
   "metadata": {},
   "outputs": [],
   "source": [
    "# Write your code here\n",
    "\n"
   ]
  },
  {
   "cell_type": "markdown",
   "metadata": {},
   "source": [
    "### Interpreting the Hawaii Emprical Distribution\n",
    "\n",
    "* According to the KDE plot above, what is the mean `avg_medicare_payment`? \n",
    "  * Plot the mean `avg_medicare_payment` and its density on your graph \n",
    "\n",
    "\n",
    "* Your graph should look like the one below     \n",
    "  * Note that lines in the example below are intentionally drawn at a value that may be different from the true mean  \n",
    "  * Make sure the vertical and horizontal lines in your graph match the mean and its density respectively\n",
    "  \n",
    "\n",
    "* Use the functions and `plt.vline` to plot the lines\n",
    "\n",
    "\n",
    "<img src=\"https://www.dropbox.com/s/boiakmsgxw69z1r/interpreting_kde.png?dl=1\" alt=\"drawing\" style=\"width:800px;\"/>"
   ]
  },
  {
   "cell_type": "code",
   "execution_count": null,
   "metadata": {},
   "outputs": [],
   "source": [
    "# Write your code here \n",
    "\n"
   ]
  },
  {
   "cell_type": "markdown",
   "metadata": {
    "collapsed": true
   },
   "source": [
    "### Interpreting the Hawaii Emprical Distribution\n",
    "\n",
    "* According to the `KDE` plot above, what is the probability of observing an average payment greater than $25,000\n",
    "\n",
    "  * The *KDE* object works in a similar fashion to any of the probability distributions in `scipy`\n",
    "  \n",
    "    * Note that what you are asked to compute here is not the density but the probability avg-payments > $25k\n",
    "    \n",
    "    * Since the total probability under the curve sums to 1, then the `avg_medicare_payment`  > $25k should be less than 1.\n",
    "    \n",
    "   * Also, recall that your payment values are log-transformed\n",
    "\n",
    "* Use `matplotlib`'s `fill_between` to paint the area under the curve representing that area. "
   ]
  },
  {
   "cell_type": "code",
   "execution_count": null,
   "metadata": {
    "collapsed": true
   },
   "outputs": [],
   "source": [
    "# Write your code here\n",
    "\n"
   ]
  },
  {
   "cell_type": "markdown",
   "metadata": {},
   "source": [
    " ### Plotting Both KDEs   \n",
    "\n",
    "* Plot the Hawaii and Idaho `log_avg_medicare_payment` distributions on the same plot\n",
    "\n",
    "* Your plot should look like the following\n",
    "\n",
    "<img src=\"https://www.dropbox.com/s/tej47hhhxc18tdd/both_kdes.png?dl=1\" alt=\"drawing\" style=\"width:700px;\"/>\n",
    "\n",
    "\n",
    "* Label the x-axis and y-axis and choose a title for your plot.\n",
    "\n",
    "According to your plot, do you believe that the average payment across both states is different? Explain your answer.\n",
    "\n",
    "\n"
   ]
  },
  {
   "cell_type": "code",
   "execution_count": null,
   "metadata": {},
   "outputs": [],
   "source": [
    "# Write your code here\n",
    "\n",
    "\n"
   ]
  },
  {
   "cell_type": "markdown",
   "metadata": {},
   "source": [
    "### Hypothesis Testing\n",
    "\n",
    "* Is there a statistically significant difference between Hawaii and Idaho in terms of log_avg_medicare_payment? Here are the hypotheses we will test:\n",
    "\n",
    "* Null Hypothesis ($H_0$)\n",
    "  * The mean values across both state are the same and any differenc is due to solely sampling\n",
    "\n",
    "* Alternative Hypothesis ($H_A$)\n",
    "  * The mean values across both state are different\n",
    "    * The observed difference is not due to chance\n",
    "    \n"
   ]
  },
  {
   "cell_type": "markdown",
   "metadata": {},
   "source": [
    "\n",
    "### Exracting the Data\n",
    "\n",
    "* First, we will combine the average Medicaid payments from both states into a single `numpy` `array` called `log_avg_medicare_payment_hi_id`. This will allow us to work with the data more easily.\n",
    "\n",
    "  * Your `numpy` array should contain 993 entries\n"
   ]
  },
  {
   "cell_type": "code",
   "execution_count": null,
   "metadata": {},
   "outputs": [],
   "source": [
    "# Write your code here\n",
    "\n"
   ]
  },
  {
   "cell_type": "markdown",
   "metadata": {},
   "source": [
    "### Computing the Observed Test Statistic\n",
    "\n",
    "* Since we are interested in the difference between both averages, i.e., avg_medicare_payment in Hawaii and Idaho, a good test statistic is, therefore, the difference between the sample means in both states. \n",
    "* Compute the observed test statistic and save it to a variable called `observed_test_stat`"
   ]
  },
  {
   "cell_type": "code",
   "execution_count": null,
   "metadata": {},
   "outputs": [],
   "source": [
    "# Write your code here \n",
    "\n"
   ]
  },
  {
   "cell_type": "markdown",
   "metadata": {},
   "source": [
    "### Generating Data Under the Null Hypothesis: Single Iteration\n",
    "\n",
    "* Under the null hypothesis, we assume that Hawaii and Idaho data come from the same distribution, and therefore, have the same parameters\n",
    "\n",
    "* We can use permutations to simulate another set of samples from Hawaii and Idaho.\n",
    "\n",
    "To generate data for a single iteration we will:\n",
    "\n",
    "  1. Shuffle the values in `log_avg_medicare_payment_hi_id`\n",
    "  2. Select two new samples to represent Hawaii and Idaho. The samples must have the same sizes as in the original data.\n",
    "  3. Compute the difference between the mean `log_avg_medicare_payment` across both states.\n",
    "  4. Store the value in a variable called `perm_diff`\n"
   ]
  },
  {
   "cell_type": "code",
   "execution_count": null,
   "metadata": {},
   "outputs": [],
   "source": [
    "# Write Your Code Here\n",
    "\n"
   ]
  },
  {
   "cell_type": "markdown",
   "metadata": {},
   "source": [
    "* Repeat the process described above 5,000 times. In each iteration save the difference in means between the two bootstrapped datasets to an array called `perm_diffs`\n",
    "* Plot the resulting distribution of the means \n",
    "  * You may use any plot type you deem appropriate for this use case\n",
    "* Use `plt.scatter` to plot in red the observed test statistic\n",
    "\n",
    "* The result should look \"somewhat\" like the graph below\n",
    "<img src=\"https://www.dropbox.com/s/doln0egikkbar52/diff_hi_id.png?dl=1\" alt=\"drawing\" style=\"width:700px;\"/>\n"
   ]
  },
  {
   "cell_type": "code",
   "execution_count": null,
   "metadata": {},
   "outputs": [],
   "source": [
    "# Write you code here\n",
    "\n",
    "\n"
   ]
  },
  {
   "cell_type": "markdown",
   "metadata": {
    "collapsed": true
   },
   "source": [
    "### Computing the p-value for the test\n",
    "\n",
    "* Compute the p-value associated with your test statistic and state whether you have ground to reject the null hypothesis.\n",
    "  * Be sure to provide your `p-value` to justify your answer."
   ]
  },
  {
   "cell_type": "code",
   "execution_count": null,
   "metadata": {},
   "outputs": [],
   "source": [
    "# Write you code here"
   ]
  },
  {
   "cell_type": "code",
   "execution_count": null,
   "metadata": {},
   "outputs": [],
   "source": [
    "# Write your answer here"
   ]
  },
  {
   "cell_type": "markdown",
   "metadata": {
    "collapsed": true
   },
   "source": [
    "### Hypothesis testing with values from DC\n",
    "\n",
    "* Repeat the hypothesis test above by testing Hawaii and DC. Use the first cells below, to run your code and plot the empirical bootstrap distribution and the second to answer whether the data are statistically significantly similar or now. Include the `p-value` to support your conclusion"
   ]
  },
  {
   "cell_type": "code",
   "execution_count": null,
   "metadata": {
    "collapsed": true
   },
   "outputs": [],
   "source": [
    "# Write you code here"
   ]
  },
  {
   "cell_type": "code",
   "execution_count": null,
   "metadata": {
    "collapsed": true
   },
   "outputs": [],
   "source": [
    "# Write your answer here"
   ]
  }
 ],
 "metadata": {
  "celltoolbar": "Slideshow",
  "colab": {
   "collapsed_sections": [],
   "name": "PP_1_Introduction.ipynb",
   "provenance": [],
   "version": "0.3.2"
  },
  "hide_input": false,
  "kernelspec": {
   "display_name": "Python 3 (ipykernel)",
   "language": "python",
   "name": "python3"
  },
  "language_info": {
   "codemirror_mode": {
    "name": "ipython",
    "version": 3
   },
   "file_extension": ".py",
   "mimetype": "text/x-python",
   "name": "python",
   "nbconvert_exporter": "python",
   "pygments_lexer": "ipython3",
   "version": "3.8.11"
  }
 },
 "nbformat": 4,
 "nbformat_minor": 1
}
